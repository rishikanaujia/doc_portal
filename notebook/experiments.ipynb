{
 "cells": [
  {
   "cell_type": "code",
   "execution_count": 35,
   "id": "53375899",
   "metadata": {},
   "outputs": [
    {
     "name": "stdout",
     "output_type": "stream",
     "text": [
      "all_ok\n"
     ]
    }
   ],
   "source": [
    "print(\"all_ok\")"
   ]
  },
  {
   "cell_type": "code",
   "execution_count": 36,
   "id": "8a0fd0a4",
   "metadata": {},
   "outputs": [],
   "source": [
    "from langchain_groq import ChatGroq"
   ]
  },
  {
   "cell_type": "code",
   "execution_count": 37,
   "id": "882780a2",
   "metadata": {},
   "outputs": [
    {
     "data": {
      "text/plain": [
       "True"
      ]
     },
     "execution_count": 37,
     "metadata": {},
     "output_type": "execute_result"
    }
   ],
   "source": [
    "from dotenv import load_dotenv\n",
    "load_dotenv()"
   ]
  },
  {
   "cell_type": "code",
   "execution_count": 38,
   "id": "f53b2ad4",
   "metadata": {},
   "outputs": [],
   "source": [
    "model=ChatGroq(model=\"qwen/qwen3-32b\")  "
   ]
  },
  {
   "cell_type": "code",
   "execution_count": 39,
   "id": "3372ce81",
   "metadata": {},
   "outputs": [
    {
     "data": {
      "text/plain": [
       "'<think>\\nOkay, so the user is asking, \"What is the capital of India?\" Let me think about how to approach this.\\n\\nFirst, I need to confirm that I know the correct answer. I remember that the capital of India is New Delhi. But wait, I should double-check to make sure I\\'m not confusing it with another city. Sometimes people might mix up the capital with Mumbai, which is a major city, but I think Mumbai is the financial capital, not the political one. Yes, New Delhi is the capital. It\\'s the seat of government, where the Parliament of India is located. \\n\\nLet me think if there\\'s any historical context here. I recall that when India became independent in 1947, the capital was shifted from Calcutta to New Delhi. The city was specifically planned as the capital in the early 20th century by British architects, like Edwin Lutyens and Herbert Baker. So New Delhi was built as a new city within the larger Delhi area. That\\'s why sometimes people refer to Delhi and New Delhi interchangeably, but technically, New Delhi is a part of the National Capital Territory of Delhi. \\n\\nWait, the user might be interested in knowing the difference between Delhi and New Delhi. Maybe I should mention that. Also, confirming the administrative status: New Delhi is the capital, part of the NCT of Delhi, which is a union territory. So, it\\'s not part of any state, but it\\'s a special administrative region. \\n\\nAre there any common misconceptions? I think sometimes people might not be clear about the distinction between New Delhi and Delhi city. So explaining that could be helpful. Also, maybe some people confuse it with other Indian cities, like Bangalore or Chennai, but those are state capitals of Karnataka and Tamil Nadu, respectively. \\n\\nAnother point: the official name of the capital is New Delhi, but the broader region is often referred to as Delhi. The area is known for historical landmarks like the Red Fort, Qutub Minar, and the India Gate. The location of the capital in New Delhi is strategic, being in the northern part of the country, and it has a mix of historical and modern architecture. \\n\\nI should also check if there\\'s any recent change or development regarding the capital. As far as I know, there haven\\'t been any changes to the capital of India in recent years. It\\'s still New Delhi. \\n\\nSo, putting it all together, the answer is New Delhi. But to provide a thorough response, I should mention that it\\'s the capital of India\\'s National Capital Territory, located in the northern part of the country, and perhaps some key facts about its history and significance. That way, the user gets a complete answer, not just the name.\\n</think>\\n\\nThe capital of India is **New Delhi**. Here are some key points about it:\\n\\n1. **Location**: New Delhi is situated in the **National Capital Territory (NCT) of Delhi**, a union territory of India. It is part of the larger Delhi region, which includes the historic city of Delhi.\\n\\n2. **History**: \\n   - New Delhi was designed in the early 20th century by British architects **Edwin Lutyens** and **Herbert Baker** as the new capital of British India.\\n   - It replaced Calcutta (now Kolkata) as the capital in 1911 and became the capital of independent India in 1947.\\n\\n3. **Administrative Status**: \\n   - New Delhi serves as the **political and administrative center** of India. It houses key government institutions, including the **Parliament of India**, **Rashtrapati Bhavan** (President\\'s residence), and **Lok Kalyan Marg** (Prime Minister\\'s residence).\\n\\n4. **Distinction from Delhi**: \\n   - **Delhi** is the broader area (a union territory), encompassing both the old city (historic Delhi) and New Delhi. \\n   - New Delhi is a sub-district of the NCT of Delhi.\\n\\n5. **Cultural and Historical Significance**:\\n   - The city is known for landmarks like the **Red Fort**, **Qutub Minar**, **India Gate**, and **Chandni Chowk**.\\n   - It blends historical architecture with modern infrastructure, reflecting India\\'s diverse heritage.\\n\\nNew Delhi remains a symbol of India\\'s political power and cultural legacy. Let me know if you\\'d like more details! 🇮🇳'"
      ]
     },
     "execution_count": 39,
     "metadata": {},
     "output_type": "execute_result"
    }
   ],
   "source": [
    "model.invoke(\"What is the capital of India?\").content"
   ]
  },
  {
   "cell_type": "code",
   "execution_count": 40,
   "id": "4eb40bd5",
   "metadata": {},
   "outputs": [],
   "source": [
    "from langchain_google_genai import GoogleGenerativeAIEmbeddings"
   ]
  },
  {
   "cell_type": "code",
   "execution_count": 41,
   "id": "257dec3b",
   "metadata": {},
   "outputs": [],
   "source": [
    "model= GoogleGenerativeAIEmbeddings(model=\"model/embedding-001\")"
   ]
  },
  {
   "cell_type": "code",
   "execution_count": null,
   "id": "fb8cae62",
   "metadata": {},
   "outputs": [],
   "source": []
  }
 ],
 "metadata": {
  "kernelspec": {
   "display_name": "Python 3",
   "language": "python",
   "name": "python3"
  },
  "language_info": {
   "codemirror_mode": {
    "name": "ipython",
    "version": 3
   },
   "file_extension": ".py",
   "mimetype": "text/x-python",
   "name": "python",
   "nbconvert_exporter": "python",
   "pygments_lexer": "ipython3",
   "version": "3.10.18"
  }
 },
 "nbformat": 4,
 "nbformat_minor": 5
}
